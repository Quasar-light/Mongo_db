{
 "cells": [
  {
   "cell_type": "code",
   "execution_count": 3,
   "metadata": {},
   "outputs": [],
   "source": [
    "import requests\n",
    "import pandas as pd"
   ]
  },
  {
   "cell_type": "code",
   "execution_count": 8,
   "metadata": {},
   "outputs": [
    {
     "data": {
      "text/plain": [
       "{'object': 'list',\n",
       " 'has_more': False,\n",
       " 'data': [{'object': 'bulk_data',\n",
       "   'id': '27bf3214-1271-490b-bdfe-c0be6c23d02e',\n",
       "   'type': 'oracle_cards',\n",
       "   'updated_at': '2023-10-18T09:01:59.400+00:00',\n",
       "   'uri': 'https://api.scryfall.com/bulk-data/27bf3214-1271-490b-bdfe-c0be6c23d02e',\n",
       "   'name': 'Oracle Cards',\n",
       "   'description': 'A JSON file containing one Scryfall card object for each Oracle ID on Scryfall. The chosen sets for the cards are an attempt to return the most up-to-date recognizable version of the card.',\n",
       "   'size': 132311500,\n",
       "   'download_uri': 'https://data.scryfall.io/oracle-cards/oracle-cards-20231018090159.json',\n",
       "   'content_type': 'application/json',\n",
       "   'content_encoding': 'gzip'},\n",
       "  {'object': 'bulk_data',\n",
       "   'id': '6bbcf976-6369-4401-88fc-3a9e4984c305',\n",
       "   'type': 'unique_artwork',\n",
       "   'updated_at': '2023-10-18T09:02:32.779+00:00',\n",
       "   'uri': 'https://api.scryfall.com/bulk-data/6bbcf976-6369-4401-88fc-3a9e4984c305',\n",
       "   'name': 'Unique Artwork',\n",
       "   'description': 'A JSON file of Scryfall card objects that together contain all unique artworks. The chosen cards promote the best image scans.',\n",
       "   'size': 178617469,\n",
       "   'download_uri': 'https://data.scryfall.io/unique-artwork/unique-artwork-20231018090232.json',\n",
       "   'content_type': 'application/json',\n",
       "   'content_encoding': 'gzip'},\n",
       "  {'object': 'bulk_data',\n",
       "   'id': 'e2ef41e3-5778-4bc2-af3f-78eca4dd9c23',\n",
       "   'type': 'default_cards',\n",
       "   'updated_at': '2023-10-18T09:05:32.219+00:00',\n",
       "   'uri': 'https://api.scryfall.com/bulk-data/e2ef41e3-5778-4bc2-af3f-78eca4dd9c23',\n",
       "   'name': 'Default Cards',\n",
       "   'description': 'A JSON file containing every card object on Scryfall in English or the printed language if the card is only available in one language.',\n",
       "   'size': 392919962,\n",
       "   'download_uri': 'https://data.scryfall.io/default-cards/default-cards-20231018090532.json',\n",
       "   'content_type': 'application/json',\n",
       "   'content_encoding': 'gzip'},\n",
       "  {'object': 'bulk_data',\n",
       "   'id': '922288cb-4bef-45e1-bb30-0c2bd3d3534f',\n",
       "   'type': 'all_cards',\n",
       "   'updated_at': '2023-10-18T09:17:01.138+00:00',\n",
       "   'uri': 'https://api.scryfall.com/bulk-data/922288cb-4bef-45e1-bb30-0c2bd3d3534f',\n",
       "   'name': 'All Cards',\n",
       "   'description': 'A JSON file containing every card object on Scryfall in every language.',\n",
       "   'size': 1949757253,\n",
       "   'download_uri': 'https://data.scryfall.io/all-cards/all-cards-20231018091701.json',\n",
       "   'content_type': 'application/json',\n",
       "   'content_encoding': 'gzip'},\n",
       "  {'object': 'bulk_data',\n",
       "   'id': '06f54c0b-ab9c-452d-b35a-8297db5eb940',\n",
       "   'type': 'rulings',\n",
       "   'updated_at': '2023-10-18T09:00:24.077+00:00',\n",
       "   'uri': 'https://api.scryfall.com/bulk-data/06f54c0b-ab9c-452d-b35a-8297db5eb940',\n",
       "   'name': 'Rulings',\n",
       "   'description': 'A JSON file containing all Rulings on Scryfall. Each ruling refers to cards via an `oracle_id`.',\n",
       "   'size': 18235679,\n",
       "   'download_uri': 'https://data.scryfall.io/rulings/rulings-20231018090024.json',\n",
       "   'content_type': 'application/json',\n",
       "   'content_encoding': 'gzip'}]}"
      ]
     },
     "execution_count": 8,
     "metadata": {},
     "output_type": "execute_result"
    }
   ],
   "source": [
    "requests.get('https://api.scryfall.com/bulk-data').json()"
   ]
  },
  {
   "cell_type": "code",
   "execution_count": 10,
   "metadata": {},
   "outputs": [],
   "source": [
    "card_requests = requests.get('https://api.scryfall.com/bulk-data').json()['data'][0]['download_uri']\n",
    "cards = requests.get(card_requests).json()\n",
    "df = pd.DataFrame.from_dict(cards)"
   ]
  },
  {
   "cell_type": "code",
   "execution_count": 17,
   "metadata": {},
   "outputs": [
    {
     "ename": "ModuleNotFoundError",
     "evalue": "No module named 'pymongo'",
     "output_type": "error",
     "traceback": [
      "\u001b[0;31m---------------------------------------------------------------------------\u001b[0m",
      "\u001b[0;31mModuleNotFoundError\u001b[0m                       Traceback (most recent call last)",
      "\u001b[1;32m/Users/kali/Documents/GitHub/bonfire123_app/src/test.ipynb Cell 4\u001b[0m line \u001b[0;36m3\n\u001b[1;32m      <a href='vscode-notebook-cell:/Users/kali/Documents/GitHub/bonfire123_app/src/test.ipynb#W4sZmlsZQ%3D%3D?line=0'>1</a>\u001b[0m con_str \u001b[39m=\u001b[39m \u001b[39m'\u001b[39m\u001b[39mmongodb+srv://abcd:<password>@bonfire123.2khjxe6.mongodb.net/\u001b[39m\u001b[39m'\u001b[39m\n\u001b[0;32m----> <a href='vscode-notebook-cell:/Users/kali/Documents/GitHub/bonfire123_app/src/test.ipynb#W4sZmlsZQ%3D%3D?line=2'>3</a>\u001b[0m \u001b[39mimport\u001b[39;00m \u001b[39mpymongo\u001b[39;00m \n\u001b[1;32m      <a href='vscode-notebook-cell:/Users/kali/Documents/GitHub/bonfire123_app/src/test.ipynb#W4sZmlsZQ%3D%3D?line=3'>4</a>\u001b[0m client \u001b[39m=\u001b[39m pymongo\u001b[39m.\u001b[39mMongoClient(con_str)\n",
      "\u001b[0;31mModuleNotFoundError\u001b[0m: No module named 'pymongo'"
     ]
    }
   ],
   "source": [
    "con_str = 'mongodb+srv://abcd:<password>@bonfire123.2khjxe6.mongodb.net/'\n",
    "\n",
    "import pymongo \n",
    "client = pymongo.MongoClient(con_str)\n"
   ]
  },
  {
   "cell_type": "code",
   "execution_count": 18,
   "metadata": {},
   "outputs": [
    {
     "ename": "NameError",
     "evalue": "name 'client' is not defined",
     "output_type": "error",
     "traceback": [
      "\u001b[0;31m---------------------------------------------------------------------------\u001b[0m",
      "\u001b[0;31mNameError\u001b[0m                                 Traceback (most recent call last)",
      "\u001b[1;32m/Users/kali/Documents/GitHub/bonfire123_app/src/test.ipynb Cell 5\u001b[0m line \u001b[0;36m1\n\u001b[0;32m----> <a href='vscode-notebook-cell:/Users/kali/Documents/GitHub/bonfire123_app/src/test.ipynb#W5sZmlsZQ%3D%3D?line=0'>1</a>\u001b[0m db \u001b[39m=\u001b[39m client\u001b[39m.\u001b[39mdb\n\u001b[1;32m      <a href='vscode-notebook-cell:/Users/kali/Documents/GitHub/bonfire123_app/src/test.ipynb#W5sZmlsZQ%3D%3D?line=1'>2</a>\u001b[0m cards \u001b[39m=\u001b[39m db\u001b[39m.\u001b[39mcards\n",
      "\u001b[0;31mNameError\u001b[0m: name 'client' is not defined"
     ]
    }
   ],
   "source": [
    "#create databases\n",
    "db = client.db\n",
    "\n",
    "#create a collection from the database\n",
    "cards = db.cards"
   ]
  },
  {
   "cell_type": "code",
   "execution_count": null,
   "metadata": {},
   "outputs": [],
   "source": [
    "#set the data frame index tot he id column:"
   ]
  }
 ],
 "metadata": {
  "kernelspec": {
   "display_name": "venv",
   "language": "python",
   "name": "python3"
  },
  "language_info": {
   "codemirror_mode": {
    "name": "ipython",
    "version": 3
   },
   "file_extension": ".py",
   "mimetype": "text/x-python",
   "name": "python",
   "nbconvert_exporter": "python",
   "pygments_lexer": "ipython3",
   "version": "3.11.5"
  },
  "orig_nbformat": 4
 },
 "nbformat": 4,
 "nbformat_minor": 2
}
